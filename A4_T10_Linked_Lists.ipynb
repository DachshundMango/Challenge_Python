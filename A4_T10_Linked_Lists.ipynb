{
 "cells": [
  {
   "cell_type": "markdown",
   "metadata": {},
   "source": [
    "### Instructions:\n",
    "\n",
    "- You can attempt any number of questions and in any order.  \n",
    "  See the assignment page for a description of the hurdle requirement for this assessment.\n",
    "- You may submit your practical for autograding as many times as you like to check on progress, however you will save time by checking and testing your own code before submitting.\n",
    "- Develop and check your answers in the spaces provided.\n",
    "- **Replace** the code `raise NotImplementedError()` with your solution to the question.\n",
    "- Do **NOT** remove any variables other provided markings already provided in the answer spaces.\n",
    "- Do **NOT** make any changes to this notebook outside of the spaces indicated.  \n",
    "  (If you do this, the submission system might not accept your work)\n",
    "\n",
    "### Submitting:\n",
    "\n",
    "1. Before you turn this problem in, make sure everything runs as expected by resetting this notebook.    \n",
    "   (You can do this from the menubar above by selecting `Kernel`&#8594;`Restart Kernel and Run All Cells...`)\n",
    "1. Don't forget to save your notebook after this step.\n",
    "1. Submit your .ipynb file to Gradescope via file upload or GitHub repository.\n",
    "1. You can submit as many times as needed.\n",
    "1. You **must** give your submitted file the **identical** filename to that which you downloaded without changing **any** aspects - spaces, underscores, capitalisation etc. If your operating system has changed the filename because you downloaded the file twice or more you **must** also fix this.  \n",
    "\n"
   ]
  },
  {
   "cell_type": "markdown",
   "metadata": {},
   "source": [
    "---"
   ]
  },
  {
   "cell_type": "markdown",
   "metadata": {},
   "source": [
    "# <mark style=\"background: #a48752; color: #ffffff;\" >&nbsp;A4&nbsp;</mark> Topic 10: Linked Lists\n",
    "\n",
    "## Please Note! ##\n",
    "The following questions assume that you are implementing object oriented versions of singly and doubly linked lists with specified class names `LinkedList` and `DoublyLinkedList`. You are free to use the online learning content from MyUni as a basis for these clasees. The questions are structured such that you add methods and/or attributes to these base classes by inheriting the class from the previous question (where appropriate).\n",
    "\n",
    "Please note that doubly linked lists are not examinable in the Section Test per the note on [this page](https://myuni.adelaide.edu.au/courses/86137/pages/a4-%7C-topic-10-doubly-linked-lists?module_item_id=2944354). This practical is structured such that you can obtain the necessary 50% mark by completing the singly linked list questions. The doubly linked list questions are available for those students who wish to deepen their understanding."
   ]
  },
  {
   "cell_type": "markdown",
   "metadata": {},
   "source": [
    "#### Question 1&nbsp;&nbsp;&nbsp;&nbsp;&nbsp;&nbsp;(10 Points)\n",
    "Write a class representing a singly linked list (`LinkedList`) with at least two methods `traverse` and `append_item`:\n",
    "\n",
    "```python\n",
    "class LinkedList:\n",
    "    def __init__(self):\n",
    "        \"\"\"\n",
    "        Initialises an empty linked list\n",
    "        \"\"\"\n",
    "        \n",
    "    def traverse(self):\n",
    "        \"\"\"\n",
    "        Returns a list object of all items in the list preserving order of addition.\n",
    "        \"\"\"\n",
    "        \n",
    "    def append_item(self, data):\n",
    "        \"\"\"\n",
    "        Appends the data to the tail of the linked list.\n",
    "        \"\"\"\n",
    "```\n",
    "Create an instance of the class named `q1_ll` and append the following integers in order:  \n",
    "- 12\n",
    "- 20\n",
    "- 19\n",
    "- 42\n",
    "\n",
    "Iterate through the list using `traverse` method and return the items in the linked list as a list to check if the values are properly inserted.\n",
    "\n",
    "Expected output:\n",
    "```python\n",
    "    assert q1_ll.traverse() == [12, 20, 19, 42]\n",
    "```"
   ]
  },
  {
   "cell_type": "code",
   "execution_count": 2,
   "metadata": {
    "ExecuteTime": {
     "end_time": "2022-03-28T08:13:13.775211Z",
     "start_time": "2022-03-28T08:13:13.754711Z"
    },
    "deletable": false,
    "nbgrader": {
     "cell_type": "code",
     "checksum": "811891f82086cfdb69f74626b817fbe1",
     "grade": false,
     "grade_id": "A1",
     "locked": false,
     "schema_version": 3,
     "solution": true,
     "task": false
    }
   },
   "outputs": [
    {
     "name": "stdout",
     "output_type": "stream",
     "text": [
      "[12, 20, 19, 42]\n"
     ]
    }
   ],
   "source": [
    "\n",
    "class Node:\n",
    "\n",
    "    def __init__(self, data):\n",
    "        self.data = data\n",
    "        self.next = None\n",
    "\n",
    "class LinkedList:\n",
    "  \n",
    "    def __init__(self):\n",
    "        self.head = None\n",
    "\n",
    "    def traverse(self):\n",
    "        cur_node = self.head\n",
    "        my_elements = []\n",
    "        while cur_node != None:\n",
    "            my_elements.append(cur_node.data)\n",
    "            cur_node = cur_node.next\n",
    "        return my_elements\n",
    "    \n",
    "    def append_item(self, data):\n",
    "        new_node = Node(data)\n",
    "        if self.head == None:\n",
    "            self.head = new_node\n",
    "        else:\n",
    "            curr = self.head\n",
    "            while curr.next != None:\n",
    "                curr = curr.next\n",
    "            curr.next = new_node\n",
    "\n",
    "q1_ll = LinkedList()\n",
    "\n",
    "q1_ll.append_item(12)\n",
    "q1_ll.append_item(20)\n",
    "q1_ll.append_item(19)\n",
    "q1_ll.append_item(42)\n",
    "\n",
    "print(q1_ll.traverse())\n"
   ]
  },
  {
   "cell_type": "code",
   "execution_count": 3,
   "metadata": {
    "ExecuteTime": {
     "end_time": "2022-03-28T08:18:53.367624Z",
     "start_time": "2022-03-28T08:18:53.356749Z"
    },
    "deletable": false,
    "editable": false,
    "nbgrader": {
     "cell_type": "code",
     "checksum": "6415bf1b2fe7e963d6f81d486d4940cf",
     "grade": true,
     "grade_id": "test_A1-singlyList",
     "locked": true,
     "points": 10,
     "schema_version": 3,
     "solution": false,
     "task": false
    },
    "tags": []
   },
   "outputs": [],
   "source": [
    "# Testing Cell (DO NOT MODIFY THIS CELL) (Do NOT modify this cell)"
   ]
  },
  {
   "cell_type": "markdown",
   "metadata": {},
   "source": [
    "#### Question 2&nbsp;&nbsp;&nbsp;&nbsp;&nbsp;&nbsp;(10 Points)\n",
    "Extend the `LinkedList` class add a method `q2_size()` to find the size of the singly linked list. Your code might look like:\n",
    "```python\n",
    "class Q2LinkedList (LinkedList):\n",
    "\n",
    "    def q2_size(self):\n",
    "        \"\"\" Return the number of elements in the linked list. \"\"\"    \n",
    "\n",
    "```\n",
    "Create an object `q2_11` with the following ordered additions:\n",
    "```python\n",
    "    12, 'John', 19, True, 'Purple', False\n",
    "```\n",
    "Your size method should thus return `6`."
   ]
  },
  {
   "cell_type": "code",
   "execution_count": 4,
   "metadata": {
    "ExecuteTime": {
     "end_time": "2022-03-28T23:24:01.886602Z",
     "start_time": "2022-03-28T23:24:01.865661Z"
    },
    "deletable": false,
    "nbgrader": {
     "cell_type": "code",
     "checksum": "032b770fd30083ed1c84f0c25a225367",
     "grade": false,
     "grade_id": "A2",
     "locked": false,
     "schema_version": 3,
     "solution": true,
     "task": false
    }
   },
   "outputs": [
    {
     "name": "stdout",
     "output_type": "stream",
     "text": [
      "6\n"
     ]
    }
   ],
   "source": [
    "class Q2LinkedList(LinkedList):\n",
    "  \n",
    "    def q2_size(self):\n",
    "        cur_node = self.head\n",
    "        size = 0\n",
    "        while cur_node != None:\n",
    "            size += 1\n",
    "            cur_node = cur_node.next\n",
    "        return size\n",
    "    \n",
    "\n",
    "q2_ll = Q2LinkedList()\n",
    "\n",
    "q2_ll.append_item(12)\n",
    "q2_ll.append_item('John')\n",
    "q2_ll.append_item(19)\n",
    "q2_ll.append_item(True)\n",
    "q2_ll.append_item('Purple')\n",
    "q2_ll.append_item(False)\n",
    "\n",
    "print(q2_ll.q2_size())\n"
   ]
  },
  {
   "cell_type": "code",
   "execution_count": 5,
   "metadata": {
    "ExecuteTime": {
     "end_time": "2022-03-28T23:06:47.614853Z",
     "start_time": "2022-03-28T23:06:47.601888Z"
    },
    "deletable": false,
    "editable": false,
    "nbgrader": {
     "cell_type": "code",
     "checksum": "3df22d333222e084302060b210253eae",
     "grade": true,
     "grade_id": "test_A2-singlySize",
     "locked": true,
     "points": 10,
     "schema_version": 3,
     "solution": false,
     "task": false
    },
    "tags": []
   },
   "outputs": [],
   "source": [
    "# Testing Cell (DO NOT MODIFY THIS CELL) (Do NOT modify this cell)"
   ]
  },
  {
   "cell_type": "markdown",
   "metadata": {},
   "source": [
    "#### Question 3&nbsp;&nbsp;&nbsp;&nbsp;&nbsp;&nbsp;(10 Points)\n",
    "Extend your class to add a `q3_search(item)` method. This method should traverse the list and return `True` if the item is found using the `==` operator, otherwise return `False`. Create a `q3_ll` object with the following content:\n",
    "```python\n",
    "    1, 12, 6, 20, 'John', 19, True, 'Purple', False\n",
    "```"
   ]
  },
  {
   "cell_type": "code",
   "execution_count": 6,
   "metadata": {
    "ExecuteTime": {
     "end_time": "2022-03-28T23:25:21.296007Z",
     "start_time": "2022-03-28T23:25:21.281020Z"
    },
    "deletable": false,
    "nbgrader": {
     "cell_type": "code",
     "checksum": "95941fcdec52b324b15dd02a6deb0730",
     "grade": false,
     "grade_id": "A3",
     "locked": false,
     "schema_version": 3,
     "solution": true,
     "task": false
    }
   },
   "outputs": [],
   "source": [
    "class Q3LinkedList(Q2LinkedList):\n",
    "\n",
    "    def q3_search(self, item):\n",
    "        curr_node = self.head\n",
    "        search = False\n",
    "        while curr_node != None:\n",
    "            if curr_node.data == item:\n",
    "                search = True\n",
    "                break\n",
    "            else:\n",
    "                curr_node = curr_node.next\n",
    "\n",
    "        return search\n",
    "    \n",
    "q3_ll = Q3LinkedList()\n",
    "\n",
    "q3_ll.append_item(1)\n",
    "q3_ll.append_item(12)\n",
    "q3_ll.append_item(6)\n",
    "q3_ll.append_item(20)\n",
    "q3_ll.append_item('John')\n",
    "q3_ll.append_item(19)\n",
    "q3_ll.append_item(True)\n",
    "q3_ll.append_item('Purple')\n",
    "q3_ll.append_item(False)"
   ]
  },
  {
   "cell_type": "code",
   "execution_count": 7,
   "metadata": {
    "ExecuteTime": {
     "end_time": "2022-03-28T23:28:14.565766Z",
     "start_time": "2022-03-28T23:28:14.562767Z"
    },
    "deletable": false,
    "editable": false,
    "nbgrader": {
     "cell_type": "code",
     "checksum": "b94d140d79a1e17225093e3098c519e7",
     "grade": true,
     "grade_id": "test_A3-search",
     "locked": true,
     "points": 10,
     "schema_version": 3,
     "solution": false,
     "task": false
    },
    "tags": []
   },
   "outputs": [],
   "source": [
    "# Testing Cell (DO NOT MODIFY THIS CELL) (Do NOT modify this cell)"
   ]
  },
  {
   "cell_type": "markdown",
   "metadata": {},
   "source": [
    "#### Question 4&nbsp;&nbsp;&nbsp;&nbsp;&nbsp;&nbsp;(10 Points)\n",
    "Extend you class with a method `q4_search(index_num)` to return the element by index where 'index' infers the length of traversal to find the item. If the index exceeds the length of the list, the method should return the string `\"Index out of range\"`.\n",
    "\n",
    "Create a list called `q4_ll` and append the following elements:\n",
    "```python\n",
    "    [12, 'John', 19, True, 'Purple', False]\n",
    "```\n",
    "A search for `0` should return `12`."
   ]
  },
  {
   "cell_type": "code",
   "execution_count": 14,
   "metadata": {
    "ExecuteTime": {
     "end_time": "2022-03-28T23:29:22.345970Z",
     "start_time": "2022-03-28T23:29:22.329287Z"
    },
    "deletable": false,
    "nbgrader": {
     "cell_type": "code",
     "checksum": "22934d10971827ba51c180a80750d70e",
     "grade": false,
     "grade_id": "A4",
     "locked": false,
     "schema_version": 3,
     "solution": true,
     "task": false
    }
   },
   "outputs": [],
   "source": [
    "class Q4LinkedList(Q3LinkedList):\n",
    "  \n",
    "   def q4_search(self, index_num):\n",
    "        curr_node = self.head\n",
    "        result_num = 0\n",
    "        result = \"Index out of range\"\n",
    "        while curr_node != None:\n",
    "            if result_num == index_num:\n",
    "                result = curr_node.data\n",
    "                break\n",
    "            else:\n",
    "                curr_node = curr_node.next\n",
    "                result_num += 1\n",
    "\n",
    "        return result\n",
    "\n",
    "\n",
    "\n",
    "q4_ll = Q4LinkedList()\n",
    "\n",
    "q4_ll.append_item(12)\n",
    "q4_ll.append_item('John')\n",
    "q4_ll.append_item(19)\n",
    "q4_ll.append_item(True)\n",
    "q4_ll.append_item('Purple')\n",
    "q4_ll.append_item(False)"
   ]
  },
  {
   "cell_type": "code",
   "execution_count": 9,
   "metadata": {
    "ExecuteTime": {
     "end_time": "2022-03-28T23:31:32.251198Z",
     "start_time": "2022-03-28T23:31:32.241222Z"
    },
    "deletable": false,
    "editable": false,
    "nbgrader": {
     "cell_type": "code",
     "checksum": "c49e5179b7655436bfaf8d441dab085d",
     "grade": true,
     "grade_id": "test_A4-secondIndex",
     "locked": true,
     "points": 10,
     "schema_version": 3,
     "solution": false,
     "task": false
    },
    "tags": []
   },
   "outputs": [],
   "source": [
    "# Testing Cell (DO NOT MODIFY THIS CELL) (Do NOT modify this cell)"
   ]
  },
  {
   "cell_type": "markdown",
   "metadata": {},
   "source": [
    "#### Question 5&nbsp;&nbsp;&nbsp;&nbsp;&nbsp;&nbsp;(10 Points)\n",
    "Add a method `q5_set_element(index_num, val)` to set a new value of an element using its index value. \n",
    "\n",
    "Create a list `q5_ll` with the following data appended:\n",
    "```python\n",
    "12, 'John', 19, True, 'Purple', False\n",
    "```\n",
    "\n",
    "The updated list should be available for testing with the `traverse()` method from Q1. For example:\n",
    "```python\n",
    "    q5_ll.q5_set_element(2, 91)\n",
    "    assert q5_ll.traverse() == [12, 'John', 91, True, 'Purple', False]\n",
    "```\n"
   ]
  },
  {
   "cell_type": "code",
   "execution_count": 13,
   "metadata": {
    "ExecuteTime": {
     "end_time": "2022-03-28T23:39:29.623205Z",
     "start_time": "2022-03-28T23:39:29.616253Z"
    },
    "deletable": false,
    "nbgrader": {
     "cell_type": "code",
     "checksum": "73bb457f596a05c9b5ee64d910178c5a",
     "grade": false,
     "grade_id": "A5",
     "locked": false,
     "schema_version": 3,
     "solution": true,
     "task": false
    }
   },
   "outputs": [
    {
     "name": "stdout",
     "output_type": "stream",
     "text": [
      "[12, 'John', 91, True, 'Purple', False]\n"
     ]
    }
   ],
   "source": [
    "class Q5LinkedList(Q4LinkedList):\n",
    "  \n",
    "    def q5_set_element(self, index_num, val):\n",
    "        new_node = Node(val)\n",
    "        cur_node = self.head\n",
    "        prev = None\n",
    "        count = 0\n",
    "        while cur_node != None and count < index_num:\n",
    "            prev = cur_node\n",
    "            cur_node = cur_node.next\n",
    "            count += 1\n",
    "\n",
    "        if cur_node != self.head:\n",
    "            prev.next = new_node\n",
    "            new_node.next = cur_node.next\n",
    "            del cur_node\n",
    "        else:\n",
    "            new_node.next = cur_node.next\n",
    "            self.head = new_node\n",
    "            del cur_node\n",
    "\n",
    "\n",
    "q5_ll = Q5LinkedList()\n",
    "\n",
    "q5_ll.append_item(12)\n",
    "q5_ll.append_item('John')\n",
    "q5_ll.append_item(19)\n",
    "q5_ll.append_item(True)\n",
    "q5_ll.append_item('Purple')\n",
    "q5_ll.append_item(False)\n",
    "\n",
    "q5_ll.q5_set_element(2, 91)\n",
    "print(q5_ll.traverse())"
   ]
  },
  {
   "cell_type": "code",
   "execution_count": 11,
   "metadata": {
    "ExecuteTime": {
     "end_time": "2022-03-28T23:35:10.510048Z",
     "start_time": "2022-03-28T23:35:10.504094Z"
    },
    "deletable": false,
    "editable": false,
    "nbgrader": {
     "cell_type": "code",
     "checksum": "5844555dcfa65e872ae79af5a4b30740",
     "grade": true,
     "grade_id": "test_A5-setElement",
     "locked": true,
     "points": 10,
     "schema_version": 3,
     "solution": false,
     "task": false
    },
    "tags": []
   },
   "outputs": [],
   "source": [
    "# Testing Cell (DO NOT MODIFY THIS CELL) (Do NOT modify this cell)"
   ]
  },
  {
   "cell_type": "markdown",
   "metadata": {},
   "source": [
    "#### Question 6&nbsp;&nbsp;&nbsp;&nbsp;&nbsp;&nbsp;(15 Points)\n",
    "Add a method to delete the first element from the list using the method `q6_delete()`. If the list is empty, raise the exception `IndexError`.\n",
    "\n",
    "Create an instance `q6_ll` with the following data:\n",
    "```python\n",
    "    [12, 'John', 19, True, 'Purple', False]\n",
    "```\n",
    "After a single call or deletion, your linked list instance should return the following with `q6_ll.traverse()`:\n",
    "```python\n",
    "    ['John', 19, True, 'Purple', False]\n",
    "```\n",
    "You should be able to generate the exception as follows (note that you should inherit from at least your Q2 class):\n",
    "```python\n",
    "    for i in range(q6_ll.q2_size() + 1):\n",
    "        q6_ll.q6_delete()\n",
    "```"
   ]
  },
  {
   "cell_type": "code",
   "execution_count": 12,
   "metadata": {
    "ExecuteTime": {
     "end_time": "2022-03-28T23:48:06.994956Z",
     "start_time": "2022-03-28T23:48:06.983971Z"
    },
    "deletable": false,
    "nbgrader": {
     "cell_type": "code",
     "checksum": "7e401155b1643df5d487e3c2c93ca338",
     "grade": false,
     "grade_id": "A6",
     "locked": false,
     "schema_version": 3,
     "solution": true,
     "task": false
    }
   },
   "outputs": [
    {
     "ename": "NotImplementedError",
     "evalue": "",
     "output_type": "error",
     "traceback": [
      "\u001b[0;31m---------------------------------------------------------------------------\u001b[0m",
      "\u001b[0;31mNotImplementedError\u001b[0m                       Traceback (most recent call last)",
      "Cell \u001b[0;32mIn[12], line 2\u001b[0m\n\u001b[1;32m      1\u001b[0m \u001b[38;5;66;03m# YOUR CODE HERE\u001b[39;00m\n\u001b[0;32m----> 2\u001b[0m \u001b[38;5;28;01mraise\u001b[39;00m \u001b[38;5;167;01mNotImplementedError\u001b[39;00m()\n",
      "\u001b[0;31mNotImplementedError\u001b[0m: "
     ]
    }
   ],
   "source": [
    "\n",
    "# YOUR CODE HERE\n",
    "raise NotImplementedError()"
   ]
  },
  {
   "cell_type": "code",
   "execution_count": null,
   "metadata": {
    "ExecuteTime": {
     "end_time": "2022-03-28T23:48:11.530251Z",
     "start_time": "2022-03-28T23:48:11.519274Z"
    },
    "deletable": false,
    "editable": false,
    "nbgrader": {
     "cell_type": "code",
     "checksum": "1b0b3871e94ba14e96428bf22d6c87b9",
     "grade": true,
     "grade_id": "test_A6-delete",
     "locked": true,
     "points": 15,
     "schema_version": 3,
     "solution": false,
     "task": false
    },
    "tags": []
   },
   "outputs": [],
   "source": [
    "# Testing Cell (DO NOT MODIFY THIS CELL) (Do NOT modify this cell)"
   ]
  },
  {
   "cell_type": "markdown",
   "metadata": {},
   "source": [
    "#### Question 7&nbsp;&nbsp;&nbsp;&nbsp;&nbsp;&nbsp;(15 Points) \n",
    "Add a method `q7_delete_last()` to delete the last item from a linked list. Again, you should raise an `IndexError` for a deletion from an empty list. Create an instance `q7_ll` with the following data appended - you must support `traverse` and `q2_size` as in the previous question.\n",
    "```python\n",
    "    12, 'John', 19, True, 'Purple', False\n",
    "```"
   ]
  },
  {
   "cell_type": "code",
   "execution_count": null,
   "metadata": {
    "ExecuteTime": {
     "end_time": "2022-03-29T00:40:03.117011Z",
     "start_time": "2022-03-29T00:40:03.102599Z"
    },
    "deletable": false,
    "nbgrader": {
     "cell_type": "code",
     "checksum": "db87d87d9dfdb04688826b9f2948395e",
     "grade": false,
     "grade_id": "A7",
     "locked": false,
     "schema_version": 3,
     "solution": true,
     "task": false
    }
   },
   "outputs": [],
   "source": [
    "\n",
    "# YOUR CODE HERE\n",
    "raise NotImplementedError()"
   ]
  },
  {
   "cell_type": "code",
   "execution_count": null,
   "metadata": {
    "ExecuteTime": {
     "end_time": "2022-03-29T00:14:59.668116Z",
     "start_time": "2022-03-29T00:14:59.654644Z"
    },
    "deletable": false,
    "editable": false,
    "nbgrader": {
     "cell_type": "code",
     "checksum": "6a5112fe4f216d4ba200abdaa7ba2c6e",
     "grade": true,
     "grade_id": "test_A7-deleteLast",
     "locked": true,
     "points": 15,
     "schema_version": 3,
     "solution": false,
     "task": false
    },
    "tags": []
   },
   "outputs": [],
   "source": [
    "# Testing Cell (DO NOT MODIFY THIS CELL) (Do NOT modify this cell)"
   ]
  },
  {
   "cell_type": "markdown",
   "metadata": {},
   "source": [
    "#### Question 8&nbsp;&nbsp;&nbsp;&nbsp;&nbsp;&nbsp;(10 Points) \n",
    "Create a class for a doubly linked list called `DoublyLinkedList` with at least the following methods:\n",
    "```python\n",
    "class DoublyLinkedList:\n",
    "    \n",
    "    def __init__(self):\n",
    "        \"\"\"\n",
    "        Initialises an empty doubly linked list.\n",
    "        \"\"\"\n",
    "        \n",
    "    def append_item(self, data):\n",
    "        \"\"\"\n",
    "        Appends the data to the tail of the linked list.\n",
    "        \"\"\"\n",
    "\n",
    "    def traverse(self, forward = True):\n",
    "        \"\"\"\n",
    "        Returns a list of the items in the linked list where the parameter\n",
    "        indicates traversal from first to last or last to first.\n",
    "        \"\"\"\n",
    "```\n",
    "Create an instance `q8_ll` and append the following items:\n",
    "- 12\n",
    "- 'John'\n",
    "- 19\n",
    "- True\n",
    "- 'Purple'\n",
    "- False"
   ]
  },
  {
   "cell_type": "code",
   "execution_count": null,
   "metadata": {
    "ExecuteTime": {
     "end_time": "2022-03-29T00:51:11.957562Z",
     "start_time": "2022-03-29T00:51:11.942572Z"
    },
    "deletable": false,
    "nbgrader": {
     "cell_type": "code",
     "checksum": "139242b73b42140af56579fa821abd42",
     "grade": false,
     "grade_id": "A8",
     "locked": false,
     "schema_version": 3,
     "solution": true,
     "task": false
    }
   },
   "outputs": [],
   "source": [
    "\n",
    "# YOUR CODE HERE\n",
    "raise NotImplementedError()"
   ]
  },
  {
   "cell_type": "code",
   "execution_count": null,
   "metadata": {
    "ExecuteTime": {
     "end_time": "2022-03-29T00:44:15.950238Z",
     "start_time": "2022-03-29T00:44:15.933283Z"
    },
    "deletable": false,
    "editable": false,
    "nbgrader": {
     "cell_type": "code",
     "checksum": "b59874301cc3cac948ebe6692a92d4f3",
     "grade": true,
     "grade_id": "test_A8-doublyAppend",
     "locked": true,
     "points": 10,
     "schema_version": 3,
     "solution": false,
     "task": false
    },
    "tags": []
   },
   "outputs": [],
   "source": [
    "# Testing Cell (DO NOT MODIFY THIS CELL)"
   ]
  },
  {
   "cell_type": "markdown",
   "metadata": {},
   "source": [
    "#### Question 9&nbsp;&nbsp;&nbsp;&nbsp;&nbsp;&nbsp;(10 Points)\n",
    "\n",
    "Extend your class with the method `q9_insert_at_index(self, index, value)` that inserts a new value at the stated index position. If the linked list is empty, the insert occurs at the head of the list regardless. If the index exceeds the current length of the list, the value is inserted at the tail.\n",
    "\n",
    "Create an instance of your class called `q9_ll` and test your insert method to insert items appropriately until you have built the following order:\n",
    "```python\n",
    "    [1, 3, 5, 7]\n",
    "```\n",
    "\n",
    "Use the `traverse()` method, which returns the items to check whether your progam is correct."
   ]
  },
  {
   "cell_type": "code",
   "execution_count": null,
   "metadata": {
    "ExecuteTime": {
     "end_time": "2022-03-29T01:33:51.919445Z",
     "start_time": "2022-03-29T01:33:51.899471Z"
    },
    "deletable": false,
    "nbgrader": {
     "cell_type": "code",
     "checksum": "17d3b703196de372ef582b40b7e077b5",
     "grade": false,
     "grade_id": "A9",
     "locked": false,
     "schema_version": 3,
     "solution": true,
     "task": false
    },
    "tags": []
   },
   "outputs": [],
   "source": [
    "\n",
    "# YOUR CODE HERE\n",
    "raise NotImplementedError()"
   ]
  },
  {
   "cell_type": "code",
   "execution_count": null,
   "metadata": {
    "ExecuteTime": {
     "end_time": "2022-03-29T01:36:16.583319Z",
     "start_time": "2022-03-29T01:36:16.571366Z"
    },
    "deletable": false,
    "editable": false,
    "nbgrader": {
     "cell_type": "code",
     "checksum": "4f69f344b3713240d53585eb86d99e4c",
     "grade": true,
     "grade_id": "test_A9-insertDoubly",
     "locked": true,
     "points": 10,
     "schema_version": 3,
     "solution": false,
     "task": false
    },
    "tags": []
   },
   "outputs": [],
   "source": [
    "# Testing Cell (DO NOT MODIFY THIS CELL)"
   ]
  }
 ],
 "metadata": {
  "hide_input": false,
  "kernelspec": {
   "display_name": "Python 3 (ipykernel)",
   "language": "python",
   "name": "python3"
  },
  "language_info": {
   "codemirror_mode": {
    "name": "ipython",
    "version": 3
   },
   "file_extension": ".py",
   "mimetype": "text/x-python",
   "name": "python",
   "nbconvert_exporter": "python",
   "pygments_lexer": "ipython3",
   "version": "3.12.4"
  },
  "nbTranslate": {
   "displayLangs": [
    "*"
   ],
   "hotkey": "alt-t",
   "langInMainMenu": true,
   "sourceLang": "en",
   "targetLang": "fr",
   "useGoogleTranslate": true
  },
  "toc": {
   "base_numbering": 1,
   "nav_menu": {},
   "number_sections": true,
   "sideBar": true,
   "skip_h1_title": false,
   "title_cell": "Table of Contents",
   "title_sidebar": "Contents",
   "toc_cell": false,
   "toc_position": {},
   "toc_section_display": true,
   "toc_window_display": false
  },
  "varInspector": {
   "cols": {
    "lenName": 16,
    "lenType": 16,
    "lenVar": 40
   },
   "kernels_config": {
    "python": {
     "delete_cmd_postfix": "",
     "delete_cmd_prefix": "del ",
     "library": "var_list.py",
     "varRefreshCmd": "print(var_dic_list())"
    },
    "r": {
     "delete_cmd_postfix": ") ",
     "delete_cmd_prefix": "rm(",
     "library": "var_list.r",
     "varRefreshCmd": "cat(var_dic_list()) "
    }
   },
   "types_to_exclude": [
    "module",
    "function",
    "builtin_function_or_method",
    "instance",
    "_Feature"
   ],
   "window_display": false
  }
 },
 "nbformat": 4,
 "nbformat_minor": 4
}
